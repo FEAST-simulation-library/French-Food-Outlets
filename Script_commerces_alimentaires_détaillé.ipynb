{
 "cells": [
  {
   "cell_type": "markdown",
   "metadata": {},
   "source": [
    "## **Librairies nécessaires à l'importation et aux traitements des données**"
   ]
  },
  {
   "cell_type": "code",
   "execution_count": 1,
   "metadata": {},
   "outputs": [],
   "source": [
    "import pandas as pd \n",
    "import numpy as np\n",
    "import plotly.express as px\n",
    "import polars as pl\n",
    "import requests\n",
    "from datetime import datetime\n",
    "from pathlib import Path\n",
    "from zipfile import ZipFile"
   ]
  },
  {
   "cell_type": "code",
   "execution_count": 2,
   "metadata": {},
   "outputs": [
    {
     "name": "stderr",
     "output_type": "stream",
     "text": [
      "<>:5: SyntaxWarning: invalid escape sequence '\\B'\n",
      "<>:5: SyntaxWarning: invalid escape sequence '\\B'\n",
      "C:\\Users\\qcreurer\\AppData\\Local\\Temp\\ipykernel_20184\\227002037.py:5: SyntaxWarning: invalid escape sequence '\\B'\n",
      "  path_sirene_zip = Path().home().joinpath(f\"Documents\\BDD sirene\\sirene 3.11\\StockEtablissement_{version}.zip\") # On stock le fichier zip dans le répertoire de notre choix. Le chemin est donc à modifier selon l'utilisateur.\n"
     ]
    },
    {
     "name": "stdout",
     "output_type": "stream",
     "text": [
      "Téléchargement du fichier zip SIRENE 3.11 : effectué.\n",
      "File Name                                             Modified             Size\n",
      "StockEtablissement_utf8.csv                    2025-02-03 12:14:00   8798569046\n",
      "Dézippage du fichier SIRENE 3.11 : effectué.\n",
      "Importation du fichier SIRENE 3.11 au format CSV : effectué.\n",
      "Filtre de la base SIRENE 3.11 sur les commerces alimentaires effectué.\n",
      "Filtre sur les commerces alimentaires actifs : effectué.\n"
     ]
    }
   ],
   "source": [
    "# Il faut télécharger la base SIRENE 3.11 \"Fichier StockEtablissement\" le plus récent sur le site : https://www.data.gouv.fr/fr/datasets/base-sirene-des-entreprises-et-de-leurs-etablissements-siren-siret/#/resources \n",
    "\n",
    "version = datetime.now().strftime(\"%B_%Y\") # Version nous permet de dater l'import du fichier au mois et à l'année dans le soucis de constituer et stocker une base de données à long terme\n",
    "version_jour = datetime.now().strftime(\"%d_%m_%Y\")\n",
    "path_sirene_zip = Path().home().joinpath(f\"Documents\\BDD sirene\\sirene 3.11\\StockEtablissement_{version}.zip\") # On stock le fichier zip dans le répertoire de notre choix. Le chemin est donc à modifier selon l'utilisateur. \n",
    "\n",
    "# On télécharge le fichier zip par requête \n",
    "url_zip_sirene = \"https://files.data.gouv.fr/insee-sirene/StockEtablissement_utf8.zip\"\n",
    "response = requests.get(url_zip_sirene, stream=True)\n",
    "\n",
    "with open(path_sirene_zip, \"wb\") as file:\n",
    "    for chunk in response.iter_content(chunk_size=1024):\n",
    "\n",
    "        file.write(chunk) \n",
    "\n",
    "print(\"Téléchargement du fichier zip SIRENE 3.11 : effectué.\")\n",
    "\n",
    "# On extrait le fichier zip pour pouvor accèder au fichier csv\n",
    "with ZipFile(path_sirene_zip, \"r\") as zip:\n",
    "    zip.printdir()\n",
    "    zip.extractall()\n",
    "\n",
    "print(\"Dézippage du fichier SIRENE 3.11 : effectué.\")\n",
    "\n",
    "# On applique directement dans l'import les modifications pour obtenir les bons formats de variables et de valeurs nulles\n",
    "stock = pl.read_csv(path_sirene_zip.parent.joinpath(\"StockEtablissement_utf8.csv\"), schema_overrides={\"dernierNumeroVoieEtablissement\": pl.datatypes.String,\n",
    "                                \"numeroVoieEtablissement\": pl.datatypes.String,\n",
    "                                \"codeCommuneEtablissement\": pl.datatypes.String,\n",
    "                                \"codePostalEtablissement\": pl.datatypes.String,},\n",
    "              null_values=[\"[ND]\", \"NN\"]\n",
    ")\n",
    "\n",
    "print(\"Importation du fichier SIRENE 3.11 au format CSV : effectué.\")\n",
    "\n",
    "# On utilise les codes APE pour selectionner les établissements qui nous intéressent à savoir les commerces alimentaires\n",
    "code_etablissement = [\"10.71B\", \"10.71C\", \"10.71D\", \"47.11A\", \"47.11B\", \"47.11C\", \"47.11D\", \"47.11F\", \"47.11E\", \"47.21Z\", \"47.22Z\", \"47.23Z\", \"47.24Z\", \"47.29Z\", \"56.10A\", \"56.10B\", \"56.10C\"]\n",
    "stock_commerce_alim = stock.filter((pl.col(\"activitePrincipaleEtablissement\").is_in(code_etablissement)))\n",
    "\n",
    "print(\"Filtre de la base SIRENE 3.11 sur les commerces alimentaires effectué.\")\n",
    "\n",
    "# On sélectionne les établissements actifs de la base\n",
    "stock_commerce_alim_actif = stock_commerce_alim.filter((pl.col(\"etatAdministratifEtablissement\") == \"A\"))\n",
    "\n",
    "print(\"Filtre sur les commerces alimentaires actifs : effectué.\")\n",
    "\n",
    "stock_commerce_alim_actif = stock_commerce_alim_actif.to_pandas()\n",
    "\n",
    "# Conversion de certaines variables\n",
    "cols_object = [\"siret\", \"siren\", \"nic\", \"anneeEffectifsEtablissement\"]\n",
    "stock_commerce_alim_actif[cols_object] = stock_commerce_alim_actif[cols_object].astype(object, errors='ignore')\n",
    "stock_commerce_alim_actif =  stock_commerce_alim_actif.astype({\"trancheEffectifsEtablissement\": 'Int64'}, errors='ignore')\n",
    "\n"
   ]
  },
  {
   "cell_type": "markdown",
   "metadata": {},
   "source": [
    "## **Apport d'Alim confiance dans la base de données SIRENE 3.11**"
   ]
  },
  {
   "cell_type": "code",
   "execution_count": 3,
   "metadata": {},
   "outputs": [
    {
     "name": "stdout",
     "output_type": "stream",
     "text": [
      "Téléchargement du fichier alim-confiance : effectué.\n",
      "Importation du fichier CSV alim-confiance : effectué.\n",
      "Jointure entre le fichier des commerces alimentaires actifs et alim confiance : effectué.\n",
      "Il y a un apport de données pour 485 établissements via la base alim confiance\n"
     ]
    }
   ],
   "source": [
    "# On reprend le même principe qu'avec la base SIRENE, on va chercher le fichier alim-confiance par requête puis on le stock dans le même répertoire que SIRENE 3.11 \n",
    "\n",
    "path_alim_confiance = Path().home().joinpath(f\"Documents/BDD sirene/sirene 3.11/alim-confiance{version}.csv\")\n",
    "url_alim_confiance = \"https://www.data.gouv.fr/fr/datasets/r/ab066871-ac7c-4e13-ae47-83a2548e2b54\"\n",
    "\n",
    "response_alim_confiance = requests.get(url_alim_confiance, stream=True)\n",
    "\n",
    "with open(path_alim_confiance, \"wb\") as file:\n",
    "    for chunk in response_alim_confiance.iter_content(chunk_size=1024):\n",
    "\n",
    "        file.write(chunk) \n",
    "\n",
    "print(\"Téléchargement du fichier alim-confiance : effectué.\")\n",
    "\n",
    "# On importe le fichier téléchargé et des modifications sont nécessaires afin de pouvoir faire une jointure avec SIRENE 3.11\n",
    "alim_confiance = pl.read_csv(path_alim_confiance.parent.joinpath(f\"alim-confiance{version}.csv\"), separator=\";\", ignore_errors=True)\n",
    "alim_confiance = alim_confiance.to_pandas()\n",
    "\n",
    "print(\"Importation du fichier CSV alim-confiance : effectué.\")\n",
    "\n",
    "alim_confiance = alim_confiance.drop_duplicates() # Traitements des entités doublons\n",
    "alim_confiance = alim_confiance.rename(columns={\"SIRET\" : \"siret\"}) # Renommer la variable siret selon la typologie de SIRENE 3.11\n",
    "stock_commerce_alim_actif_alim_confiance = pd.merge(stock_commerce_alim_actif, alim_confiance, on=\"siret\", how=\"left\") # Fusionner les deux fichiers\n",
    "\n",
    "print(\"Jointure entre le fichier des commerces alimentaires actifs et alim confiance : effectué.\")\n",
    "\n",
    "apport = len(stock_commerce_alim_actif_alim_confiance)-len(stock_commerce_alim_actif) \n",
    "print(\"Il y a un apport de données pour\", apport, \"établissements via la base alim confiance\")"
   ]
  },
  {
   "cell_type": "markdown",
   "metadata": {},
   "source": [
    "**On obtient un fichier avec les commerces alimentaires de la base SIRENE 3.11 et les commerces alimentaires issus de la base de donnée Alim Confiance**"
   ]
  },
  {
   "cell_type": "markdown",
   "metadata": {},
   "source": [
    "## **Apport des données de l'Agence Bio à SIRENE 3.11**"
   ]
  },
  {
   "cell_type": "code",
   "execution_count": 4,
   "metadata": {},
   "outputs": [
    {
     "name": "stdout",
     "output_type": "stream",
     "text": [
      "Téléchargement du fichier de l'Agence Bio : effectué.\n",
      "Importation du fichier CSV de l'Agence Bio : effectué.\n",
      "Création du fichier des distributeurs alimentaires issus de l'Agence Bio : effectué.\n",
      "Jointure entre les commerces alimentaires actifs et l'Agence Bio : effectué.\n",
      "Traitement des doublons : effectué.\n"
     ]
    }
   ],
   "source": [
    "# On requête directement pour télécharger le fichier issu de l'Agence Bio et le stocker dans le répertoire sirene 3.11\n",
    "\n",
    "path_agence_bio = Path().home().joinpath(f\"Documents/BDD sirene/sirene 3.11/operateursbio_{version}.csv\")\n",
    "url_agence_bio = \"https://www.data.gouv.fr/fr/datasets/r/657789db-d349-4554-aef6-eabde4bd1c57\"  \n",
    "\n",
    "response_agence_bio = requests.get(url_agence_bio, stream=True)\n",
    "\n",
    "with open(path_agence_bio, \"wb\") as file:\n",
    "    for chunk in response_agence_bio.iter_content(chunk_size=1024):\n",
    "\n",
    "        file.write(chunk) \n",
    "\n",
    "print(\"Téléchargement du fichier de l'Agence Bio : effectué.\")\n",
    "\n",
    "# On importe le fichier téléchargé\n",
    "agence_bio = pl.read_csv(path_agence_bio.parent.joinpath(f\"operateursbio_{version}.csv\"), separator=\";\", ignore_errors=True, encoding='latin')\n",
    "agence_bio = agence_bio.to_pandas()\n",
    "\n",
    "print(\"Importation du fichier CSV de l'Agence Bio : effectué.\")\n",
    "\n",
    "agence_bio_distri = agence_bio[agence_bio['ACTIVITES'].str.contains(\"Distribution\", na = False)] # On cherche les entités qui distribuent de l'alimentaire \n",
    "agence_bio_distri = agence_bio_distri.rename(columns={\"SIRET\" : \"siret\", \"DENOMINATION\": \"enseigne1Etablissement\", \"CODE POSTAL SIEGE SOCIAL\" : \"codePostalEtablissement\", \"DATEENGAGEMENT\" : \"dateCreationEtablissement\"}) # On renomme les variables pour que la jointure puisse être opérante\n",
    "\n",
    "print(\"Création du fichier des distributeurs alimentaires issus de l'Agence Bio : effectué.\")\n",
    "\n",
    "stock_commerce_alim_actif_agence_bio = pd.merge(stock_commerce_alim_actif, agence_bio_distri, on=\"siret\", how=\"left\") # On fusionne les fichiers\n",
    "\n",
    "print(\"Jointure entre les commerces alimentaires actifs et l'Agence Bio : effectué.\")\n",
    "\n",
    "doublon = stock_commerce_alim_actif_agence_bio[\"siret\"].duplicated().sum() # On vérifie qu'il n'y ait pas de doublon\n",
    "stock_commerce_alim_actif_agence_bio = stock_commerce_alim_actif_agence_bio.drop_duplicates(\"siret\", keep='last') # On élimine les doublons en gardant les entités les plus récemments ajoutées\n",
    "\n",
    "print(\"Traitement des doublons : effectué.\")"
   ]
  },
  {
   "cell_type": "markdown",
   "metadata": {},
   "source": [
    "**On obtient un fichier comprenant les commerces alimentaires issus de la base SIRENE 3.11 et les commerces alimentaires issus de la base de données de l'Agence Bio**"
   ]
  },
  {
   "cell_type": "markdown",
   "metadata": {},
   "source": [
    "## **Création d'un fichier comprenant SIRENE 3.11, Alim Confiance et l'Agence Bio**"
   ]
  },
  {
   "cell_type": "code",
   "execution_count": 5,
   "metadata": {},
   "outputs": [
    {
     "name": "stdout",
     "output_type": "stream",
     "text": [
      "Jointure entre le fichier des commerces alimentaires actifs augmenté d'alim confiance avec le fichier des distributeurs de l'Agence Bio : effectué.\n"
     ]
    }
   ],
   "source": [
    "# On fusionne les fichiers \n",
    "\n",
    "stock_commerce_enrichi =  pd.merge(stock_commerce_alim_actif_alim_confiance, agence_bio_distri, on=\"siret\", how=\"left\")\n",
    "\n",
    "print(\"Jointure entre le fichier des commerces alimentaires actifs augmenté d'alim confiance avec le fichier des distributeurs de l'Agence Bio : effectué.\")"
   ]
  },
  {
   "cell_type": "markdown",
   "metadata": {},
   "source": [
    "## **On filtre les établissements fermés d'après le BODACC**"
   ]
  },
  {
   "cell_type": "code",
   "execution_count": 6,
   "metadata": {},
   "outputs": [
    {
     "name": "stderr",
     "output_type": "stream",
     "text": [
      "<>:28: SyntaxWarning: invalid escape sequence '\\['\n",
      "<>:28: SyntaxWarning: invalid escape sequence '\\['\n",
      "C:\\Users\\qcreurer\\AppData\\Local\\Temp\\ipykernel_20184\\1504592547.py:28: SyntaxWarning: invalid escape sequence '\\['\n",
      "  bodacc = bodacc.replace('\\[','',regex=True)\n"
     ]
    },
    {
     "name": "stdout",
     "output_type": "stream",
     "text": [
      "Téléchargement du fichier Bodacc des annonces de radiations : effectué.\n",
      "Importation du fichier CSV : effectué.\n",
      "Modification de la variable siren pour jointure : effectué.\n",
      "Il y a eu 8259 fermetures de commerces alimentaires ( February_2025 )\n",
      "Création du fichier des commerces alimentaires actifs enrichi par les données de l'Agence Bio et Alim Confiance : effectué.\n"
     ]
    }
   ],
   "source": [
    "# On requête directement pour télécharger le fichier Bodacc des annonces de radiations et le stocker dans le répertoire sirene 3.11\n",
    "\n",
    "url_bodacc = \"https://bodacc-datadila.opendatasoft.com/api/explore/v2.1/catalog/datasets/annonces-commerciales/exports/csv\"\n",
    "path_bodacc = Path().home().joinpath(f\"Documents/BDD sirene/sirene 3.11/bodacc_{version}.csv\")\n",
    "params = {\n",
    "    \"refine\": [\"typeavis:'annonce'\", \"familleavis:'radiation'\"],\n",
    "    \"lang\": \"fr\",\n",
    "    \"select\" : [\"id\", \"dateparution\", \"familleavis\", \"ville\", \"numerodepartement\", \"departement_nom_officiel\", \"region_code\", \"region_nom_officiel\",\"tribunal\", \"cp\", \"commercant\", \"registre\", \"jugement\"], # On filtre les colonnes nécessaires à la jointure et à la compréhension du fichier\n",
    "    \"timezone\": \"Europe/Berlin\"\n",
    "}\n",
    "response_bodacc = requests.get(url_bodacc, params=params, stream=True)\n",
    "\n",
    "with open(path_bodacc, mode=\"wb\") as file:\n",
    "    for chunk in response_bodacc.iter_content(chunk_size=10 * 1024):\n",
    "        file.write(chunk)\n",
    "\n",
    "print(\"Téléchargement du fichier Bodacc des annonces de radiations : effectué.\")\n",
    "\n",
    "bodacc = pl.read_csv(path_bodacc, separator=\";\",  schema_overrides={\"numerodepartement\": pl.datatypes.String, \"cp\": pl.datatypes.String}) \n",
    "bodacc = bodacc.to_pandas() \n",
    "\n",
    "print(\"Importation du fichier CSV : effectué.\")\n",
    "\n",
    "\n",
    "# La variable registre est composée du même code siren écrit de deux manières différentes. On recrée une variable pour garder le code siren utile à la jointure. \n",
    "bodacc[[\"siren\", \"siren_bis\"]] = bodacc.registre.str.split(pat=\",\", expand=True)\n",
    "bodacc = bodacc.drop([\"registre\", \"siren_bis\"], axis=1)\n",
    "bodacc = bodacc.replace('\\[','',regex=True)\n",
    "bodacc = bodacc.replace(\"\\''\",'',regex=True)\n",
    "bodacc[\"siren\"] = bodacc[\"siren\"].str.strip(\"''\")\n",
    "stock_commerce_enrichi[\"siren\"] = stock_commerce_enrichi[\"siren\"].astype(str)\n",
    "\n",
    "print(\"Modification de la variable siren pour jointure : effectué.\")\n",
    "\n",
    "\n",
    "# Jointure entre le fichier SIRENE enrichi et le BODACC & élimination des commerces alimentaires recensés comme radiés.\n",
    "stock_commerce_alimentaire_bodacc = pd.merge(stock_commerce_enrichi, bodacc, on=\"siren\", how='left')\n",
    "\n",
    "def radiation_bodacc(x): \n",
    "    if x == \"radiation\" :\n",
    "        return \"Fermé\"\n",
    "    else :\n",
    "        return \"Ouvert\"\n",
    "\n",
    "stock_commerce_alimentaire_bodacc[\"etat_etablissement_bodacc\"] = stock_commerce_alimentaire_bodacc[\"familleavis\"].map(radiation_bodacc, na_action=None)\n",
    "\n",
    "nb_fermeture = len(stock_commerce_alimentaire_bodacc.loc[stock_commerce_alimentaire_bodacc[\"etat_etablissement_bodacc\"] == \"Fermé\"])\n",
    "print(\"Il y a eu\",nb_fermeture,\"fermetures de commerces alimentaires (\",version,\")\")\n",
    "\n",
    "cols_object = [\"siret\", \"siren\", \"nic\"]\n",
    "stock_commerce_alimentaire_bodacc[cols_object] = stock_commerce_alimentaire_bodacc[cols_object].astype(object, errors='ignore')\n",
    "\n",
    "cols_object = [\"trancheEffectifsEtablissement\", \"anneeEffectifsEtablissement\", \"numeroVoieEtablissement\"]\n",
    "stock_commerce_alimentaire_bodacc[cols_object] = stock_commerce_alimentaire_bodacc[cols_object].astype(int, errors='ignore')\n",
    "\n",
    "stock_commerce_alimentaire_bodacc = stock_commerce_alimentaire_bodacc.drop('commercant', axis=1)\n",
    "\n",
    "stock_commerce_alimentaire_bodacc.to_csv(f\"stock_commerce_alimentaire_bodacc_{version_jour}.csv\")\n",
    "\n",
    "print(\"Création du fichier des commerces alimentaires actifs enrichi par les données de l'Agence Bio et Alim Confiance : effectué.\")"
   ]
  }
 ],
 "metadata": {
  "kernelspec": {
   "display_name": "base",
   "language": "python",
   "name": "python3"
  },
  "language_info": {
   "codemirror_mode": {
    "name": "ipython",
    "version": 3
   },
   "file_extension": ".py",
   "mimetype": "text/x-python",
   "name": "python",
   "nbconvert_exporter": "python",
   "pygments_lexer": "ipython3",
   "version": "3.12.3"
  }
 },
 "nbformat": 4,
 "nbformat_minor": 2
}
